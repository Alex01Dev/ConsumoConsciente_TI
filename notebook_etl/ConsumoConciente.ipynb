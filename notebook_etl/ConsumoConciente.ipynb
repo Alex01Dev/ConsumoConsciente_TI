{
 "cells": [
  {
   "cell_type": "markdown",
   "id": "775760f6-cd5e-40c4-a64f-daf1862279b9",
   "metadata": {},
   "source": [
    "# Proceso ETL (Extracción, Transformación, Carga) del proyecto Consumo Consciente"
   ]
  },
  {
   "cell_type": "markdown",
   "id": "2dfe4295-e27f-4689-a286-95c8416b2ca8",
   "metadata": {},
   "source": [
    "## Importación de librerias "
   ]
  },
  {
   "cell_type": "code",
   "execution_count": 25,
   "id": "479c723a-020c-455f-89fb-9db29d391fde",
   "metadata": {},
   "outputs": [],
   "source": [
    "import numpy as np #Sirve par apoder ealizar procesamientos basicos numericos de datos cuantitativos\n",
    "import pandas as pd #Sirve para reutilizar los procesos ETL en un conjunto de Datos\n",
    "import time #Sirve para la manipulacion de datos en diferentes formatos de tiempo\n",
    "import sqlalchemy  #Sirve para conectarte y trabajar con bases de datos relacionales (MySQL, PostgreSQL, SQLite, SQL Server, etc.).\n",
    "\n",
    "# Graficadores (Plots)\n",
    "\n",
    "import matplotlib.pyplot as plt #Librería base para gráficos en 2D.\n",
    "import plotly.express as px #Se usa mucho para análisis estadístico visual.\n",
    "import seaborn as sns #Para gráficos interactivos y dinámicos."
   ]
  },
  {
   "cell_type": "code",
   "execution_count": 4,
   "id": "4f64652a-189e-441c-aeb7-72d3997dd0c5",
   "metadata": {},
   "outputs": [
    {
     "name": "stdout",
     "output_type": "stream",
     "text": [
      "C:\\Users\\dell\\9B\\Integradora\n",
      " El volumen de la unidad C es SSD\n",
      " El número de serie del volumen es: 780D-6F6E\n",
      "\n",
      " Directorio de C:\\Users\\dell\\9B\\Integradora\n",
      "\n",
      "19/08/2025  07:16 a. m.    <DIR>          .\n",
      "19/08/2025  06:37 a. m.    <DIR>          ..\n",
      "19/08/2025  06:38 a. m.    <DIR>          .ipynb_checkpoints\n",
      "19/08/2025  06:58 a. m.             2,683 ConsumoConciente.ipynb\n",
      "19/08/2025  06:38 a. m.        73,710,595 db_cc.sql\n",
      "19/08/2025  07:16 a. m.        20,432,092 products.csv\n",
      "               3 archivos     94,145,370 bytes\n",
      "               3 dirs   1,034,985,472 bytes libres\n"
     ]
    }
   ],
   "source": [
    "!cd\n",
    "!dir"
   ]
  },
  {
   "cell_type": "code",
   "execution_count": 7,
   "id": "4882f7c6-7e3e-418e-bed9-9cb1b876612c",
   "metadata": {},
   "outputs": [],
   "source": [
    "df = pd.read_csv('products.csv', encoding=\"latin1\")"
   ]
  },
  {
   "cell_type": "code",
   "execution_count": 8,
   "id": "f85ca132-3a78-456f-b09e-991ab3cae1e5",
   "metadata": {},
   "outputs": [
    {
     "name": "stdout",
     "output_type": "stream",
     "text": [
      "<class 'pandas.core.frame.DataFrame'>\n"
     ]
    }
   ],
   "source": [
    "# Corroboramos tipo de dato en nuestro objeto\n",
    "\n",
    "print(type(df))"
   ]
  },
  {
   "cell_type": "code",
   "execution_count": 10,
   "id": "91a86d49-82aa-4690-bab8-ee473bbb0180",
   "metadata": {},
   "outputs": [
    {
     "name": "stdout",
     "output_type": "stream",
     "text": [
      "<class 'pandas.core.frame.DataFrame'>\n",
      "RangeIndex: 107312 entries, 0 to 107311\n",
      "Data columns (total 1 columns):\n",
      " #   Column                                                                                                                              Non-Null Count   Dtype \n",
      "---  ------                                                                                                                              --------------   ----- \n",
      " 0   id;\"name\";\"category\";\"carbon_footprint\";\"recyclable_packaging\";\"local_origin\";\"image_url\";\"price\";\"status\";\"quantity\";\"created_by\"  107312 non-null  object\n",
      "dtypes: object(1)\n",
      "memory usage: 838.5+ KB\n"
     ]
    }
   ],
   "source": [
    "# Informacion sobre el contenido\n",
    "df.info()"
   ]
  },
  {
   "cell_type": "markdown",
   "id": "ed2aba8b-7816-402a-92c4-a19ff20cdd29",
   "metadata": {},
   "source": [
    "## Revisar importacion de los datos y conocer su composición"
   ]
  },
  {
   "cell_type": "code",
   "execution_count": 14,
   "id": "81d6eac4-bd92-4409-9b50-592e32d36518",
   "metadata": {},
   "outputs": [
    {
     "data": {
      "text/plain": [
       "107312"
      ]
     },
     "execution_count": 14,
     "metadata": {},
     "output_type": "execute_result"
    }
   ],
   "source": [
    "#Tamaño del dataframe\n",
    "df.size"
   ]
  },
  {
   "cell_type": "code",
   "execution_count": 13,
   "id": "cc586d30-07e5-4c2b-9f35-fc753e6e5cbf",
   "metadata": {},
   "outputs": [
    {
     "name": "stdout",
     "output_type": "stream",
     "text": [
      "<bound method NDFrame.head of        id;\"name\";\"category\";\"carbon_footprint\";\"recyclable_packaging\";\"local_origin\";\"image_url\";\"price\";\"status\";\"quantity\";\"created_by\"\n",
      "0       1;\"Bragas térmicas de lino reciclado (Edición ...                                                                                \n",
      "1       2;\"Repisa de plastico reciclado (Diseño circul...                                                                                \n",
      "2       3;\"Reloj de pared de materiales mixtos (Multiu...                                                                                \n",
      "3       4;\"Detergente en pastilla de Sin quimicos (Sin...                                                                                \n",
      "4       5;\"Protector solar de orgánico (Dermatológico)...                                                                                \n",
      "...                                                   ...                                                                                \n",
      "107307  107308;\"Vela aromática de plastico reciclado (...                                                                                \n",
      "107308  107309;\"Cepillo de dientes de a base de ingred...                                                                                \n",
      "107309  107310;\"Bragas térmicas de Piel (Edición limit...                                                                                \n",
      "107310  107311;\"Sobre kraft de cartón reciclado (100% ...                                                                                \n",
      "107311  107312;\"Vela aromática de cera (Hecho a mano)\"...                                                                                \n",
      "\n",
      "[107312 rows x 1 columns]>\n"
     ]
    }
   ],
   "source": [
    "#Devolver los primeros 5 valores\n",
    "print(df.head) ## Devuelve los primeros y los ultimos 5 registros o tuplas de data frame"
   ]
  },
  {
   "cell_type": "code",
   "execution_count": 15,
   "id": "01cded8f-87cd-4853-b9ca-26d52c863337",
   "metadata": {},
   "outputs": [
    {
     "data": {
      "text/html": [
       "<div>\n",
       "<style scoped>\n",
       "    .dataframe tbody tr th:only-of-type {\n",
       "        vertical-align: middle;\n",
       "    }\n",
       "\n",
       "    .dataframe tbody tr th {\n",
       "        vertical-align: top;\n",
       "    }\n",
       "\n",
       "    .dataframe thead th {\n",
       "        text-align: right;\n",
       "    }\n",
       "</style>\n",
       "<table border=\"1\" class=\"dataframe\">\n",
       "  <thead>\n",
       "    <tr style=\"text-align: right;\">\n",
       "      <th></th>\n",
       "      <th>id;\"name\";\"category\";\"carbon_footprint\";\"recyclable_packaging\";\"local_origin\";\"image_url\";\"price\";\"status\";\"quantity\";\"created_by\"</th>\n",
       "    </tr>\n",
       "  </thead>\n",
       "  <tbody>\n",
       "    <tr>\n",
       "      <th>count</th>\n",
       "      <td>107312</td>\n",
       "    </tr>\n",
       "    <tr>\n",
       "      <th>unique</th>\n",
       "      <td>107312</td>\n",
       "    </tr>\n",
       "    <tr>\n",
       "      <th>top</th>\n",
       "      <td>1;\"Bragas térmicas de lino reciclado (Edición ...</td>\n",
       "    </tr>\n",
       "    <tr>\n",
       "      <th>freq</th>\n",
       "      <td>1</td>\n",
       "    </tr>\n",
       "  </tbody>\n",
       "</table>\n",
       "</div>"
      ],
      "text/plain": [
       "       id;\"name\";\"category\";\"carbon_footprint\";\"recyclable_packaging\";\"local_origin\";\"image_url\";\"price\";\"status\";\"quantity\";\"created_by\"\n",
       "count                                              107312                                                                                \n",
       "unique                                             107312                                                                                \n",
       "top     1;\"Bragas térmicas de lino reciclado (Edición ...                                                                                \n",
       "freq                                                    1                                                                                "
      ]
     },
     "execution_count": 15,
     "metadata": {},
     "output_type": "execute_result"
    }
   ],
   "source": [
    "df.describe() ## Realiza un reporte estadisticos sobre columnas completamente numericos (cuantitativos)"
   ]
  },
  {
   "cell_type": "code",
   "execution_count": 16,
   "id": "4d9ce1e0-0c08-46b7-bd2a-ddfce06738b9",
   "metadata": {},
   "outputs": [
    {
     "data": {
      "text/html": [
       "<div>\n",
       "<style scoped>\n",
       "    .dataframe tbody tr th:only-of-type {\n",
       "        vertical-align: middle;\n",
       "    }\n",
       "\n",
       "    .dataframe tbody tr th {\n",
       "        vertical-align: top;\n",
       "    }\n",
       "\n",
       "    .dataframe thead th {\n",
       "        text-align: right;\n",
       "    }\n",
       "</style>\n",
       "<table border=\"1\" class=\"dataframe\">\n",
       "  <thead>\n",
       "    <tr style=\"text-align: right;\">\n",
       "      <th></th>\n",
       "      <th>id;\"name\";\"category\";\"carbon_footprint\";\"recyclable_packaging\";\"local_origin\";\"image_url\";\"price\";\"status\";\"quantity\";\"created_by\"</th>\n",
       "    </tr>\n",
       "  </thead>\n",
       "  <tbody>\n",
       "    <tr>\n",
       "      <th>0</th>\n",
       "      <td>False</td>\n",
       "    </tr>\n",
       "    <tr>\n",
       "      <th>1</th>\n",
       "      <td>False</td>\n",
       "    </tr>\n",
       "    <tr>\n",
       "      <th>2</th>\n",
       "      <td>False</td>\n",
       "    </tr>\n",
       "    <tr>\n",
       "      <th>3</th>\n",
       "      <td>False</td>\n",
       "    </tr>\n",
       "    <tr>\n",
       "      <th>4</th>\n",
       "      <td>False</td>\n",
       "    </tr>\n",
       "    <tr>\n",
       "      <th>...</th>\n",
       "      <td>...</td>\n",
       "    </tr>\n",
       "    <tr>\n",
       "      <th>107307</th>\n",
       "      <td>False</td>\n",
       "    </tr>\n",
       "    <tr>\n",
       "      <th>107308</th>\n",
       "      <td>False</td>\n",
       "    </tr>\n",
       "    <tr>\n",
       "      <th>107309</th>\n",
       "      <td>False</td>\n",
       "    </tr>\n",
       "    <tr>\n",
       "      <th>107310</th>\n",
       "      <td>False</td>\n",
       "    </tr>\n",
       "    <tr>\n",
       "      <th>107311</th>\n",
       "      <td>False</td>\n",
       "    </tr>\n",
       "  </tbody>\n",
       "</table>\n",
       "<p>107312 rows × 1 columns</p>\n",
       "</div>"
      ],
      "text/plain": [
       "        id;\"name\";\"category\";\"carbon_footprint\";\"recyclable_packaging\";\"local_origin\";\"image_url\";\"price\";\"status\";\"quantity\";\"created_by\"\n",
       "0                                                   False                                                                                 \n",
       "1                                                   False                                                                                 \n",
       "2                                                   False                                                                                 \n",
       "3                                                   False                                                                                 \n",
       "4                                                   False                                                                                 \n",
       "...                                                   ...                                                                                 \n",
       "107307                                              False                                                                                 \n",
       "107308                                              False                                                                                 \n",
       "107309                                              False                                                                                 \n",
       "107310                                              False                                                                                 \n",
       "107311                                              False                                                                                 \n",
       "\n",
       "[107312 rows x 1 columns]"
      ]
     },
     "execution_count": 16,
     "metadata": {},
     "output_type": "execute_result"
    }
   ],
   "source": [
    "df.isnull() ## Mapea la matriz original con una matriz"
   ]
  },
  {
   "cell_type": "markdown",
   "id": "b7b231fa-f94c-4419-afdf-e39a2dc86cf4",
   "metadata": {},
   "source": [
    "# Transformar los Datos para su Ánalisis"
   ]
  },
  {
   "cell_type": "code",
   "execution_count": 17,
   "id": "5a6be3c8-4040-48d9-9b48-b5c53a8f8f30",
   "metadata": {},
   "outputs": [],
   "source": [
    "df_duplicados_eliminados= df.drop_duplicates() ## Este metodo elimina los datos duplicados en base al criterio de la totalidad de los datos, esto se debe realizar\n",
    "                    ## con extrema cautela dato que si no se tiene un atributo indentificar se alteraran resultados esperados"
   ]
  },
  {
   "cell_type": "code",
   "execution_count": 18,
   "id": "0cfe9260-28a3-45ea-9f65-63360b08c690",
   "metadata": {},
   "outputs": [
    {
     "name": "stdout",
     "output_type": "stream",
     "text": [
      "<class 'pandas.core.frame.DataFrame'>\n",
      "RangeIndex: 107312 entries, 0 to 107311\n",
      "Data columns (total 1 columns):\n",
      " #   Column                                                                                                                              Non-Null Count   Dtype \n",
      "---  ------                                                                                                                              --------------   ----- \n",
      " 0   id;\"name\";\"category\";\"carbon_footprint\";\"recyclable_packaging\";\"local_origin\";\"image_url\";\"price\";\"status\";\"quantity\";\"created_by\"  107312 non-null  object\n",
      "dtypes: object(1)\n",
      "memory usage: 838.5+ KB\n"
     ]
    }
   ],
   "source": [
    "df_duplicados_eliminados.info()"
   ]
  },
  {
   "cell_type": "code",
   "execution_count": 19,
   "id": "ccd93d1c-9a46-49f4-ab27-2741063e2cba",
   "metadata": {},
   "outputs": [],
   "source": [
    "df_vacios_eliminados= df.dropna()"
   ]
  },
  {
   "cell_type": "code",
   "execution_count": 20,
   "id": "eee2af55-ec67-4d26-a6b5-2f13c9479e15",
   "metadata": {},
   "outputs": [
    {
     "name": "stdout",
     "output_type": "stream",
     "text": [
      "<class 'pandas.core.frame.DataFrame'>\n",
      "RangeIndex: 107312 entries, 0 to 107311\n",
      "Data columns (total 1 columns):\n",
      " #   Column                                                                                                                              Non-Null Count   Dtype \n",
      "---  ------                                                                                                                              --------------   ----- \n",
      " 0   id;\"name\";\"category\";\"carbon_footprint\";\"recyclable_packaging\";\"local_origin\";\"image_url\";\"price\";\"status\";\"quantity\";\"created_by\"  107312 non-null  object\n",
      "dtypes: object(1)\n",
      "memory usage: 838.5+ KB\n"
     ]
    }
   ],
   "source": [
    "df_vacios_eliminados.info()"
   ]
  },
  {
   "cell_type": "code",
   "execution_count": 21,
   "id": "9ff3b67c-093a-488b-afa2-fae9a309226d",
   "metadata": {},
   "outputs": [
    {
     "name": "stdout",
     "output_type": "stream",
     "text": [
      "<class 'pandas.core.frame.DataFrame'>\n",
      "RangeIndex: 107312 entries, 0 to 107311\n",
      "Data columns (total 1 columns):\n",
      " #   Column                                                                                                                              Non-Null Count   Dtype \n",
      "---  ------                                                                                                                              --------------   ----- \n",
      " 0   id;\"name\";\"category\";\"carbon_footprint\";\"recyclable_packaging\";\"local_origin\";\"image_url\";\"price\";\"status\";\"quantity\";\"created_by\"  107312 non-null  object\n",
      "dtypes: object(1)\n",
      "memory usage: 838.5+ KB\n"
     ]
    }
   ],
   "source": [
    "df.info()"
   ]
  },
  {
   "cell_type": "code",
   "execution_count": 23,
   "id": "98065e92-ba57-4793-86b2-dfa7274088c6",
   "metadata": {},
   "outputs": [
    {
     "name": "stdout",
     "output_type": "stream",
     "text": [
      "DataFrame Original:\n",
      "107312\n",
      "DataFrame sin datos nulos en la columna:\n",
      "107312\n"
     ]
    }
   ],
   "source": [
    "print(\"DataFrame Original:\")\n",
    "print(len(df))\n",
    "print(\"DataFrame sin datos nulos en la columna:\")\n",
    "print(len(df_vacios_eliminados))"
   ]
  },
  {
   "cell_type": "markdown",
   "id": "887129e9-b900-4a6b-9d89-ec86f40c2d92",
   "metadata": {},
   "source": [
    "# Graficación básica"
   ]
  },
  {
   "cell_type": "code",
   "execution_count": 28,
   "id": "c69a86ae-5a3b-4bd2-b846-fa85bb522cf8",
   "metadata": {},
   "outputs": [
    {
     "name": "stdout",
     "output_type": "stream",
     "text": [
      "Index(['id', 'name', 'category', 'carbon_footprint', 'recyclable_packaging',\n",
      "       'local_origin', 'image_url', 'price', 'status', 'quantity',\n",
      "       'created_by'],\n",
      "      dtype='object')\n",
      "   id                                               name  category  \\\n",
      "0   1  Bragas térmicas de lino reciclado (Edición lim...      Ropa   \n",
      "1   2     Repisa de plastico reciclado (Diseño circular)     Hogar   \n",
      "2   3    Reloj de pared de materiales mixtos (Multiusos)      Otro   \n",
      "3   4  Detergente en pastilla de Sin quimicos (Sin fr...  Limpieza   \n",
      "4   5        Protector solar de orgánico (Dermatológico)     Salud   \n",
      "\n",
      "   carbon_footprint  recyclable_packaging  local_origin  \\\n",
      "0             18.07                     1             1   \n",
      "1              6.05                     1             0   \n",
      "2              6.10                     0             0   \n",
      "3              4.73                     0             0   \n",
      "4             10.65                     0             1   \n",
      "\n",
      "                                           image_url   price      status  \\\n",
      "0  https://res.cloudinary.com/dkerhtvlk/image/upl...  160.29     agotado   \n",
      "1  https://res.cloudinary.com/dkerhtvlk/image/upl...  161.04  disponible   \n",
      "2  https://res.cloudinary.com/dkerhtvlk/image/upl...  111.47  disponible   \n",
      "3  https://res.cloudinary.com/dkerhtvlk/image/upl...  178.67  disponible   \n",
      "4  https://res.cloudinary.com/dkerhtvlk/image/upl...   82.76     agotado   \n",
      "\n",
      "   quantity  created_by  \n",
      "0         5         662  \n",
      "1        60        6214  \n",
      "2        28        8084  \n",
      "3        23         361  \n",
      "4        89        4462  \n"
     ]
    }
   ],
   "source": [
    "df = pd.read_csv(\"products.csv\", encoding=\"latin1\", sep=\";\")\n",
    "\n",
    "print(df.columns)   # Ahora deberían salir columnas separadas correctamente\n",
    "print(df.head()) "
   ]
  },
  {
   "cell_type": "code",
   "execution_count": 36,
   "id": "a1a4f656-b972-46c2-b237-02495313cbaf",
   "metadata": {},
   "outputs": [
    {
     "name": "stdout",
     "output_type": "stream",
     "text": [
      "Index(['id', 'name', 'category', 'carbon_footprint', 'recyclable_packaging',\n",
      "       'local_origin', 'image_url', 'price', 'status', 'quantity',\n",
      "       'created_by'],\n",
      "      dtype='object')\n",
      "   id                                               name  category  \\\n",
      "0   1  Bragas térmicas de lino reciclado (Edición lim...      Ropa   \n",
      "1   2     Repisa de plastico reciclado (Diseño circular)     Hogar   \n",
      "2   3    Reloj de pared de materiales mixtos (Multiusos)      Otro   \n",
      "3   4  Detergente en pastilla de Sin quimicos (Sin fr...  Limpieza   \n",
      "4   5        Protector solar de orgánico (Dermatológico)     Salud   \n",
      "\n",
      "   carbon_footprint  recyclable_packaging  local_origin  \\\n",
      "0             18.07                     1             1   \n",
      "1              6.05                     1             0   \n",
      "2              6.10                     0             0   \n",
      "3              4.73                     0             0   \n",
      "4             10.65                     0             1   \n",
      "\n",
      "                                           image_url   price      status  \\\n",
      "0  https://res.cloudinary.com/dkerhtvlk/image/upl...  160.29     agotado   \n",
      "1  https://res.cloudinary.com/dkerhtvlk/image/upl...  161.04  disponible   \n",
      "2  https://res.cloudinary.com/dkerhtvlk/image/upl...  111.47  disponible   \n",
      "3  https://res.cloudinary.com/dkerhtvlk/image/upl...  178.67  disponible   \n",
      "4  https://res.cloudinary.com/dkerhtvlk/image/upl...   82.76     agotado   \n",
      "\n",
      "   quantity  created_by  \n",
      "0         5         662  \n",
      "1        60        6214  \n",
      "2        28        8084  \n",
      "3        23         361  \n",
      "4        89        4462  \n"
     ]
    }
   ],
   "source": [
    "df = pd.read_csv(\"products.csv\", encoding=\"latin1\", sep=\";\")\n",
    "\n",
    "# Limpieza de nombres de columnas (por si tienen comillas)\n",
    "df.columns = df.columns.str.replace('\"', '').str.strip()\n",
    "\n",
    "print(df.columns)   # Para confirmar que ya existe \"status\" y \"carbon_footprint\"\n",
    "print(df.head())"
   ]
  },
  {
   "cell_type": "code",
   "execution_count": 42,
   "id": "4b5c188b-7eb3-4e70-ba83-68ccb99da6a0",
   "metadata": {},
   "outputs": [
    {
     "data": {
      "image/png": "[encoded data removed]",
      "text/plain": [
       "<Figure size 640x480 with 1 Axes>"
      ]
     },
     "metadata": {},
     "output_type": "display_data"
    },
    {
     "data": {
      "image/png": "[encoded data removed]",
      "text/plain": [
       "<Figure size 640x480 with 1 Axes>"
      ]
     },
     "metadata": {},
     "output_type": "display_data"
    }
   ],
   "source": [
    "# --- 1. Estatus disponible vs agotado ---\n",
    "status_counts = df['status'].value_counts()\n",
    "\n",
    "status_counts.plot(kind=\"bar\", edgecolor=\"black\")\n",
    "plt.title(\"Disponibilidad de productos\")\n",
    "plt.xlabel(\"Estatus\")\n",
    "plt.ylabel(\"Cantidad\")\n",
    "plt.show()\n",
    "\n",
    "# --- 2. Distribución de huella de carbono ---\n",
    "plt.hist(df['carbon_footprint'], bins=10, color=\"green\", edgecolor=\"black\")\n",
    "plt.title(\"Distribución de productos por huella de carbono\")\n",
    "plt.xlabel(\"Huella de carbono\")\n",
    "plt.ylabel(\"Cantidad de productos\")\n",
    "plt.show()"
   ]
  },
  {
   "cell_type": "code",
   "execution_count": 34,
   "id": "e9845d66-0153-4360-a989-e9d46f16dbb6",
   "metadata": {},
   "outputs": [
    {
     "name": "stdout",
     "output_type": "stream",
     "text": [
      "Index(['id;name;category;carbon_footprint;recyclable_packaging;local_origin;image_url;price;status;quantity;created_by'], dtype='object')\n"
     ]
    }
   ],
   "source": [
    "df.columns = df.columns.str.replace('\"', '')\n",
    "print(df.columns)\n"
   ]
  },
  {
   "cell_type": "code",
   "execution_count": 40,
   "id": "aae99648-a25d-49a0-b3ec-d33b3d9bc180",
   "metadata": {},
   "outputs": [
    {
     "name": "stdout",
     "output_type": "stream",
     "text": [
      "['id;\"name\";\"category\";\"carbon_footprint\";\"recyclable_packaging\";\"local_origin\";\"image_url\";\"price\";\"status\";\"quantity\";\"created_by\"']\n",
      "  id;\"name\";\"category\";\"carbon_footprint\";\"recyclable_packaging\";\"local_origin\";\"image_url\";\"price\";\"status\";\"quantity\";\"created_by\"\n",
      "0  1;\"Bragas térmicas de lino reciclado (Edición ...                                                                                \n",
      "1  2;\"Repisa de plastico reciclado (Diseño circul...                                                                                \n",
      "2  3;\"Reloj de pared de materiales mixtos (Multiu...                                                                                \n",
      "3  4;\"Detergente en pastilla de Sin quimicos (Sin...                                                                                \n",
      "4  5;\"Protector solar de orgánico (Dermatológico)...                                                                                \n"
     ]
    }
   ],
   "source": [
    "print(df.columns.tolist())   # lista exacta de los nombres de columnas\n",
    "print(df.head())     "
   ]
  },
  {
   "cell_type": "code",
   "execution_count": 41,
   "id": "fee4c01c-71b6-4d71-b6fe-6f66d39f9fac",
   "metadata": {},
   "outputs": [
    {
     "name": "stdout",
     "output_type": "stream",
     "text": [
      "['id', 'name', 'category', 'carbon_footprint', 'recyclable_packaging', 'local_origin', 'image_url', 'price', 'status', 'quantity', 'created_by']\n",
      "   id                                               name  category  \\\n",
      "0   1  Bragas térmicas de lino reciclado (Edición lim...      Ropa   \n",
      "1   2     Repisa de plastico reciclado (Diseño circular)     Hogar   \n",
      "2   3    Reloj de pared de materiales mixtos (Multiusos)      Otro   \n",
      "3   4  Detergente en pastilla de Sin quimicos (Sin fr...  Limpieza   \n",
      "4   5        Protector solar de orgánico (Dermatológico)     Salud   \n",
      "\n",
      "   carbon_footprint  recyclable_packaging  local_origin  \\\n",
      "0             18.07                     1             1   \n",
      "1              6.05                     1             0   \n",
      "2              6.10                     0             0   \n",
      "3              4.73                     0             0   \n",
      "4             10.65                     0             1   \n",
      "\n",
      "                                           image_url   price      status  \\\n",
      "0  https://res.cloudinary.com/dkerhtvlk/image/upl...  160.29     agotado   \n",
      "1  https://res.cloudinary.com/dkerhtvlk/image/upl...  161.04  disponible   \n",
      "2  https://res.cloudinary.com/dkerhtvlk/image/upl...  111.47  disponible   \n",
      "3  https://res.cloudinary.com/dkerhtvlk/image/upl...  178.67  disponible   \n",
      "4  https://res.cloudinary.com/dkerhtvlk/image/upl...   82.76     agotado   \n",
      "\n",
      "   quantity  created_by  \n",
      "0         5         662  \n",
      "1        60        6214  \n",
      "2        28        8084  \n",
      "3        23         361  \n",
      "4        89        4462  \n"
     ]
    }
   ],
   "source": [
    "import pandas as pd\n",
    "import matplotlib.pyplot as plt\n",
    "\n",
    "# 📌 Forzamos a pandas a usar ; como delimitador y que trate las comillas correctamente\n",
    "df = pd.read_csv(\"products.csv\", encoding=\"latin1\", sep=\";\", quotechar='\"')\n",
    "\n",
    "# Normalizamos nombres de columnas (quitamos espacios, minúsculas)\n",
    "df.columns = df.columns.str.strip().str.lower()\n",
    "\n",
    "print(df.columns.tolist())\n",
    "print(df.head())"
   ]
  },
  {
   "cell_type": "markdown",
   "id": "19c9f653-83ee-49bd-b4f8-74a3fc5cec3f",
   "metadata": {},
   "source": [
    "# Exportación de dataFrame"
   ]
  },
  {
   "cell_type": "code",
   "execution_count": 43,
   "id": "06f3679c-9570-4d6b-9d99-9e70fc4f15dd",
   "metadata": {},
   "outputs": [],
   "source": [
    "df.to_csv(\"products_export.csv\", index=False, encoding=\"utf-8\")"
   ]
  }
 ],
 "metadata": {
  "kernelspec": {
   "display_name": "Python [conda env:base] *",
   "language": "python",
   "name": "conda-base-py"
  },
  "language_info": {
   "codemirror_mode": {
    "name": "ipython",
    "version": 3
   },
   "file_extension": ".py",
   "mimetype": "text/x-python",
   "name": "python",
   "nbconvert_exporter": "python",
   "pygments_lexer": "ipython3",
   "version": "3.11.7"
  }
 },
 "nbformat": 4,
 "nbformat_minor": 5
}
